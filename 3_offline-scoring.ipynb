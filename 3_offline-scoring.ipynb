{
 "cells": [
  {
   "cell_type": "markdown",
   "id": "8f0d595a-7bb9-475e-80fd-ebd62a1818ff",
   "metadata": {},
   "source": [
    "# Running the Model Offline\n",
    "\n",
    "After deploying the object detection model for real-time inference, let's now have a look at offline scoring, i.e. applying the model on a given set of data. We'll formulate this procedure as a sequence of generic workflow steps that we can apply and reuse for similar scenarios. In preparation of the offline scoring _pipeline_, each task is implemented in a separate Python module. Refer to the individual modules for details."
   ]
  },
  {
   "cell_type": "code",
   "execution_count": null,
   "id": "00fd2e57-2602-451c-b536-efcd93673dd3",
   "metadata": {},
   "outputs": [],
   "source": [
    "from data_ingestion import ingest_data\n",
    "from model_loading import load_model\n",
    "from preprocessing import preprocess_image_folder\n",
    "from results_upload import upload_results\n",
    "from scoring import predict"
   ]
  },
  {
   "cell_type": "markdown",
   "id": "bcbd24d0-ad2c-498f-8c41-f6316cdc1971",
   "metadata": {},
   "source": [
    "We'll first ingest the data by pulling the images to be classified from the remote S3 bucket into the local `./data` folder."
   ]
  },
  {
   "cell_type": "code",
   "execution_count": null,
   "id": "11d57eb7-7018-48f5-b40d-ecdda8a8febc",
   "metadata": {},
   "outputs": [],
   "source": [
    "ingest_data()"
   ]
  },
  {
   "cell_type": "markdown",
   "id": "adbf91b0-c331-4e6b-b0a6-25c31c919370",
   "metadata": {},
   "source": [
    "We'll then convert the raw images into structured data as in the previous notebooks."
   ]
  },
  {
   "cell_type": "code",
   "execution_count": null,
   "id": "aadb625c-d35b-4554-bc32-bb3177ff5394",
   "metadata": {},
   "outputs": [],
   "source": [
    "preprocess_image_folder()"
   ]
  },
  {
   "cell_type": "markdown",
   "id": "21388a94-5b17-489a-b172-8585a03e4165",
   "metadata": {},
   "source": [
    "We'll now download the object detection model from the remote S3 bucket into the local folder. You'll find it in the object browser as `model.onnx`."
   ]
  },
  {
   "cell_type": "code",
   "execution_count": null,
   "id": "65068f51-5a86-4ea9-b4ac-0189ad145543",
   "metadata": {},
   "outputs": [],
   "source": [
    "load_model()"
   ]
  },
  {
   "cell_type": "markdown",
   "id": "0cea7f55-3b52-4fc2-9df3-908ccd7f658d",
   "metadata": {},
   "source": [
    "Let's now run the model through the pre-processed images. We'll collect the prediction results and stored them locally in the `./data/results.csv` file.\n",
    "\n",
    "If using your own custom model, add the `class_labels` argument to the function call, e.g. `predict(class_labels=['Laptop', 'Computer keyboard', 'Table'])`."
   ]
  },
  {
   "cell_type": "code",
   "execution_count": null,
   "id": "3e9c73d8-f441-4a9f-95f2-6eae63514e90",
   "metadata": {},
   "outputs": [],
   "source": [
    "predict()"
   ]
  },
  {
   "cell_type": "markdown",
   "id": "e92ebd3e-dd13-4fc0-9504-2ae28764ced1",
   "metadata": {},
   "source": [
    "Finally, we'll upload the results file into our S3 bucket, so the results become available for further analytics and processing."
   ]
  },
  {
   "cell_type": "code",
   "execution_count": null,
   "id": "05b7291b-0f58-4def-9f69-2f524ffd62ec",
   "metadata": {},
   "outputs": [],
   "source": [
    "upload_results()"
   ]
  },
  {
   "cell_type": "markdown",
   "id": "14a23797-99db-44f4-b2d3-1fb83788ee80",
   "metadata": {},
   "source": [
    "You can now inspect the results in the object detection S3 bucket within your object storage browser. Within the `data` folder, find and download the `predictions-[timestamp].csv` object to view the list of all detected objects in the respective images.\n",
    "\n",
    "Let's now head over to the workshop for the next section, which is running offline scoring through Data Science Pipelines."
   ]
  },
  {
   "cell_type": "code",
   "execution_count": null,
   "id": "11ae040a-b426-4cc7-8bfc-c4b372e65179",
   "metadata": {},
   "outputs": [],
   "source": []
  }
 ],
 "metadata": {
  "kernelspec": {
   "display_name": "Python 3.9.16",
   "language": "python",
   "name": "python3"
  },
  "language_info": {
   "codemirror_mode": {
    "name": "ipython",
    "version": 3
   },
   "file_extension": ".py",
   "mimetype": "text/x-python",
   "name": "python",
   "nbconvert_exporter": "python",
   "pygments_lexer": "ipython3",
   "version": "3.9.16"
  },
  "vscode": {
   "interpreter": {
    "hash": "e7370f93d1d0cde622a1f8e1c04877d8463912d04d973331ad4851f04de6915a"
   }
  }
 },
 "nbformat": 4,
 "nbformat_minor": 5
}
