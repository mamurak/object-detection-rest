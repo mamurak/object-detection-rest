{
 "cells": [
  {
   "cell_type": "markdown",
   "id": "8f0d595a-7bb9-475e-80fd-ebd62a1818ff",
   "metadata": {},
   "source": [
    "# Running the Model Offline\n",
    "\n",
    "After deploying the object detection model for real-time inference, let's now have a look at offline scoring, i.e. applying the model on a given set of data. We'll formulate this procedure as a sequence of generic workflow steps that we can apply and reuse for similar scenarios. In preparation of the offline scoring _pipeline_, each task is implemented in a separate Python module. Refer to the individual modules for details."
   ]
  },
  {
   "cell_type": "code",
   "execution_count": 1,
   "id": "00fd2e57-2602-451c-b536-efcd93673dd3",
   "metadata": {},
   "outputs": [],
   "source": [
    "from data_ingestion import ingest_data\n",
    "from model_loading import load_model\n",
    "from preprocessing import preprocess_image_folder\n",
    "from results_upload import upload_results\n",
    "from scoring import predict"
   ]
  },
  {
   "cell_type": "markdown",
   "id": "bcbd24d0-ad2c-498f-8c41-f6316cdc1971",
   "metadata": {},
   "source": [
    "We'll first ingest the data by pulling the images to be classified from the remote S3 bucket into the local `./data` folder."
   ]
  },
  {
   "cell_type": "code",
   "execution_count": 2,
   "id": "11d57eb7-7018-48f5-b40d-ecdda8a8febc",
   "metadata": {
    "collapsed": true,
    "jupyter": {
     "outputs_hidden": true
    },
    "tags": []
   },
   "outputs": [
    {
     "name": "stdout",
     "output_type": "stream",
     "text": [
      "Cleaning folder ./data\n",
      "Commencing data ingestion.\n",
      "Downloading data from bucket \"object-detection\" from S3 storage at http://minio-service:9000\n",
      "Downloading data/0000048549557964.jpg to ./data/0000048549557964.jpg\n",
      "Downloading data/00002f4ff380c64c.jpg to ./data/00002f4ff380c64c.jpg\n",
      "Downloading data/0000575f5a03db70.jpg to ./data/0000575f5a03db70.jpg\n",
      "Downloading data/00005bf623ff1ac2.jpg to ./data/00005bf623ff1ac2.jpg\n",
      "Downloading data/000096726fd6c6c8.jpg to ./data/000096726fd6c6c8.jpg\n",
      "Downloading data/00010bf498b64bab.jpg to ./data/00010bf498b64bab.jpg\n",
      "Downloading data/0001124e2d5104e1.jpg to ./data/0001124e2d5104e1.jpg\n",
      "Downloading data/0001c626b9afb50c.jpg to ./data/0001c626b9afb50c.jpg\n",
      "Downloading data/0001c6bf48e16ab2.jpg to ./data/0001c6bf48e16ab2.jpg\n",
      "Downloading data/0001c8c65851276f.jpg to ./data/0001c8c65851276f.jpg\n",
      "Downloading data/000228608388803f.jpg to ./data/000228608388803f.jpg\n",
      "Downloading data/0002a5b67e5f0909.jpg to ./data/0002a5b67e5f0909.jpg\n",
      "Downloading data/00036603fa39fa85.jpg to ./data/00036603fa39fa85.jpg\n",
      "Downloading data/0003b0bf24238450.jpg to ./data/0003b0bf24238450.jpg\n",
      "Downloading data/0003bb040a62c86f.jpg to ./data/0003bb040a62c86f.jpg\n",
      "Downloading data/0003def0d18d8807.jpg to ./data/0003def0d18d8807.jpg\n",
      "Downloading data/00041cc3701f7805.jpg to ./data/00041cc3701f7805.jpg\n",
      "Downloading data/0004394a0768c842.jpg to ./data/0004394a0768c842.jpg\n",
      "Downloading data/00043e7c5c4c025a.jpg to ./data/00043e7c5c4c025a.jpg\n",
      "Downloading data/00049e69cdd23a3d.jpg to ./data/00049e69cdd23a3d.jpg\n",
      "Downloading data/0004d295cfb46842.jpg to ./data/0004d295cfb46842.jpg\n",
      "Downloading data/0004d5a9dd44ab6a.jpg to ./data/0004d5a9dd44ab6a.jpg\n",
      "Downloading data/00050546c36b308c.jpg to ./data/00050546c36b308c.jpg\n",
      "Downloading data/00052b203c5dad30.jpg to ./data/00052b203c5dad30.jpg\n",
      "Downloading data/00054dab88635bdb.jpg to ./data/00054dab88635bdb.jpg\n",
      "Downloading data/00058138dc1ecd17.jpg to ./data/00058138dc1ecd17.jpg\n",
      "Downloading data/00060e9fc35e660c.jpg to ./data/00060e9fc35e660c.jpg\n",
      "Downloading data/0006176101d9d341.jpg to ./data/0006176101d9d341.jpg\n",
      "Downloading data/00068f1248eacccf.jpg to ./data/00068f1248eacccf.jpg\n",
      "Downloading data/000692d348b0f181.jpg to ./data/000692d348b0f181.jpg\n",
      "Downloading data/00069668b6542934.jpg to ./data/00069668b6542934.jpg\n",
      "Downloading data/0006c87d3735fcef.jpg to ./data/0006c87d3735fcef.jpg\n",
      "Downloading data/00071c51c8e92a68.jpg to ./data/00071c51c8e92a68.jpg\n",
      "Downloading data/0007870724402b51.jpg to ./data/0007870724402b51.jpg\n",
      "Downloading data/0007bd7afaaf5415.jpg to ./data/0007bd7afaaf5415.jpg\n",
      "Downloading data/0007efdd465a14b8.jpg to ./data/0007efdd465a14b8.jpg\n",
      "Downloading data/000823904818a6c4.jpg to ./data/000823904818a6c4.jpg\n",
      "Downloading data/000823c3bde83d9a.jpg to ./data/000823c3bde83d9a.jpg\n",
      "Downloading data/00082426f9139dd0.jpg to ./data/00082426f9139dd0.jpg\n",
      "Downloading data/000883b46adeca7e.jpg to ./data/000883b46adeca7e.jpg\n",
      "Downloading data/00088e25af342aa4.jpg to ./data/00088e25af342aa4.jpg\n",
      "Downloading data/0008bf2677041a02.jpg to ./data/0008bf2677041a02.jpg\n",
      "Downloading data/0008fd2b17474497.jpg to ./data/0008fd2b17474497.jpg\n",
      "Downloading data/000998c7ed279358.jpg to ./data/000998c7ed279358.jpg\n",
      "Downloading data/0009b74be294a699.jpg to ./data/0009b74be294a699.jpg\n",
      "Downloading data/0009c4ddcaab18d3.jpg to ./data/0009c4ddcaab18d3.jpg\n",
      "Downloading data/000a8a98e1de3e25.jpg to ./data/000a8a98e1de3e25.jpg\n",
      "Downloading data/000b0f235dcf2caa.jpg to ./data/000b0f235dcf2caa.jpg\n",
      "Downloading data/000b393437134262.jpg to ./data/000b393437134262.jpg\n",
      "Downloading data/000bcee5bed5446b.jpg to ./data/000bcee5bed5446b.jpg\n",
      "Downloading data/000bd0b4fa27644c.jpg to ./data/000bd0b4fa27644c.jpg\n",
      "Downloading data/000c2995db80cbe4.jpg to ./data/000c2995db80cbe4.jpg\n",
      "Downloading data/000c38aad66307c5.jpg to ./data/000c38aad66307c5.jpg\n",
      "Downloading data/000c4e51b1a9b8f7.jpg to ./data/000c4e51b1a9b8f7.jpg\n",
      "Downloading data/000c6c92c80213ff.jpg to ./data/000c6c92c80213ff.jpg\n",
      "Downloading data/000cafbcb070c466.jpg to ./data/000cafbcb070c466.jpg\n",
      "Downloading data/000cfa102510c0f1.jpg to ./data/000cfa102510c0f1.jpg\n",
      "Downloading data/000d2e3d33b18463.jpg to ./data/000d2e3d33b18463.jpg\n",
      "Downloading data/000d646bd488b38d.jpg to ./data/000d646bd488b38d.jpg\n",
      "Downloading data/000f269d7fece350.jpg to ./data/000f269d7fece350.jpg\n",
      "Downloading data/000f70501d048ef7.jpg to ./data/000f70501d048ef7.jpg\n",
      "Downloading data/000f914230e22d71.jpg to ./data/000f914230e22d71.jpg\n",
      "Downloading data/00112acaa533356c.jpg to ./data/00112acaa533356c.jpg\n",
      "Downloading data/001503233549730c.jpg to ./data/001503233549730c.jpg\n",
      "Downloading data/0015ed9688bc1e8e.jpg to ./data/0015ed9688bc1e8e.jpg\n",
      "Downloading data/001609bdf7825870.jpg to ./data/001609bdf7825870.jpg\n",
      "Downloading data/001679a19bb6fd3f.jpg to ./data/001679a19bb6fd3f.jpg\n",
      "Downloading data/0016a0f096337445.jpg to ./data/0016a0f096337445.jpg\n",
      "Downloading data/001781cdcb61400b.jpg to ./data/001781cdcb61400b.jpg\n",
      "Downloading data/001a0e2feef561c7.jpg to ./data/001a0e2feef561c7.jpg\n",
      "Downloading data/001c40a6f5d88e48.jpg to ./data/001c40a6f5d88e48.jpg\n",
      "Downloading data/001df30e84a5a97f.jpg to ./data/001df30e84a5a97f.jpg\n",
      "Downloading data/001ec67e5cbcca49.jpg to ./data/001ec67e5cbcca49.jpg\n",
      "Downloading data/0020996570519366.jpg to ./data/0020996570519366.jpg\n",
      "Downloading data/002150b620f2aa6d.jpg to ./data/002150b620f2aa6d.jpg\n",
      "Downloading data/00222079c8a6280c.jpg to ./data/00222079c8a6280c.jpg\n",
      "Downloading data/0024fb82693bbbcc.jpg to ./data/0024fb82693bbbcc.jpg\n",
      "Downloading data/002bdd2550665a64.jpg to ./data/002bdd2550665a64.jpg\n",
      "Downloading data/002dd4662cbb4ba2.jpg to ./data/002dd4662cbb4ba2.jpg\n",
      "Downloading data/002f2d008de2f535.jpg to ./data/002f2d008de2f535.jpg\n",
      "Downloading data/0030feaa83a02c0d.jpg to ./data/0030feaa83a02c0d.jpg\n",
      "Downloading data/003d6a9ba866c4eb.jpg to ./data/003d6a9ba866c4eb.jpg\n",
      "Downloading data/003d6b0960cb3e2b.jpg to ./data/003d6b0960cb3e2b.jpg\n",
      "Downloading data/003df657f0316e11.jpg to ./data/003df657f0316e11.jpg\n",
      "Downloading data/0040858c4d613704.jpg to ./data/0040858c4d613704.jpg\n",
      "Downloading data/0040970d5d6adc40.jpg to ./data/0040970d5d6adc40.jpg\n",
      "Downloading data/004720f5d7bd7edf.jpg to ./data/004720f5d7bd7edf.jpg\n",
      "Downloading data/004853fe7579627e.jpg to ./data/004853fe7579627e.jpg\n",
      "Downloading data/00494d0811b9e652.jpg to ./data/00494d0811b9e652.jpg\n",
      "Downloading data/004afd0c3cb926ab.jpg to ./data/004afd0c3cb926ab.jpg\n",
      "Downloading data/004cb569de00934c.jpg to ./data/004cb569de00934c.jpg\n",
      "Downloading data/004cc310bb32da6a.jpg to ./data/004cc310bb32da6a.jpg\n",
      "Downloading data/004cda0e4eb7a750.jpg to ./data/004cda0e4eb7a750.jpg\n",
      "Downloading data/00540dc66af81e94.jpg to ./data/00540dc66af81e94.jpg\n",
      "Downloading data/0055a449c414ef9e.jpg to ./data/0055a449c414ef9e.jpg\n",
      "Downloading data/0057a54eb95ccae6.jpg to ./data/0057a54eb95ccae6.jpg\n",
      "Downloading data/005ab6a6aec14a9c.jpg to ./data/005ab6a6aec14a9c.jpg\n",
      "Downloading data/005c731182304792.jpg to ./data/005c731182304792.jpg\n",
      "Downloading data/005ec5c4b32ca609.jpg to ./data/005ec5c4b32ca609.jpg\n",
      "Downloading data/0061abb86f6f9797.jpg to ./data/0061abb86f6f9797.jpg\n",
      "Downloading data/00670d2aef4f1fcf.jpg to ./data/00670d2aef4f1fcf.jpg\n",
      "Downloading data/006918103f17ca7f.jpg to ./data/006918103f17ca7f.jpg\n",
      "Downloading data/006be4a4e79e12d5.jpg to ./data/006be4a4e79e12d5.jpg\n",
      "Downloading data/006fcabebcf65380.jpg to ./data/006fcabebcf65380.jpg\n",
      "Downloading data/0071e67f53f3dc39.jpg to ./data/0071e67f53f3dc39.jpg\n",
      "Downloading data/007597893db3c411.jpg to ./data/007597893db3c411.jpg\n",
      "Downloading data/007a3aae79a10a6c.jpg to ./data/007a3aae79a10a6c.jpg\n",
      "Downloading data/007a7cb668455fc3.jpg to ./data/007a7cb668455fc3.jpg\n",
      "Downloading data/007dd9372c1d4088.jpg to ./data/007dd9372c1d4088.jpg\n",
      "Downloading data/007ddcced8b5be79.jpg to ./data/007ddcced8b5be79.jpg\n",
      "Downloading data/008125630eaf4f05.jpg to ./data/008125630eaf4f05.jpg\n",
      "Downloading data/00869e738293d1df.jpg to ./data/00869e738293d1df.jpg\n",
      "Downloading data/00880ed05da05102.jpg to ./data/00880ed05da05102.jpg\n",
      "Downloading data/008a2dd76102b748.jpg to ./data/008a2dd76102b748.jpg\n",
      "Downloading data/008c28a0a97216c1.jpg to ./data/008c28a0a97216c1.jpg\n",
      "Downloading data/008cd942c971fe1a.jpg to ./data/008cd942c971fe1a.jpg\n",
      "Downloading data/0090c9b776a557fb.jpg to ./data/0090c9b776a557fb.jpg\n",
      "Downloading data/00948da90d0cb52d.jpg to ./data/00948da90d0cb52d.jpg\n",
      "Downloading data/0099a5e2710c0e73.jpg to ./data/0099a5e2710c0e73.jpg\n",
      "Downloading data/009b30b23a5befc3.jpg to ./data/009b30b23a5befc3.jpg\n",
      "Downloading data/009eaaa14af6f296.jpg to ./data/009eaaa14af6f296.jpg\n",
      "Downloading data/009f745b52e89d5c.jpg to ./data/009f745b52e89d5c.jpg\n",
      "Downloading data/00a11d5892e6ac29.jpg to ./data/00a11d5892e6ac29.jpg\n",
      "Downloading data/00a601de77fe40ce.jpg to ./data/00a601de77fe40ce.jpg\n",
      "Downloading data/00a7a03f0d75b433.jpg to ./data/00a7a03f0d75b433.jpg\n",
      "Downloading data/00aeae02541ecc2e.jpg to ./data/00aeae02541ecc2e.jpg\n",
      "Downloading data/00b8e1731d4fe022.jpg to ./data/00b8e1731d4fe022.jpg\n",
      "Downloading data/00bdfe164d09e786.jpg to ./data/00bdfe164d09e786.jpg\n",
      "Downloading data/00c0ae5cf9a8fc5e.jpg to ./data/00c0ae5cf9a8fc5e.jpg\n",
      "Downloading data/00c5acc1534ca7a0.jpg to ./data/00c5acc1534ca7a0.jpg\n",
      "Downloading data/00d6aae9529521f2.jpg to ./data/00d6aae9529521f2.jpg\n",
      "Downloading data/00d6e208e61b824c.jpg to ./data/00d6e208e61b824c.jpg\n",
      "Downloading data/00dc4c2a55a0c32b.jpg to ./data/00dc4c2a55a0c32b.jpg\n",
      "Downloading data/00dd7bfce34210a0.jpg to ./data/00dd7bfce34210a0.jpg\n",
      "Downloading data/00e3d03cfff2b7a1.jpg to ./data/00e3d03cfff2b7a1.jpg\n",
      "Downloading data/00e5a35c3d7b50af.jpg to ./data/00e5a35c3d7b50af.jpg\n",
      "Downloading data/00e9982e9c9dde25.jpg to ./data/00e9982e9c9dde25.jpg\n",
      "Downloading data/00eaf2eced366517.jpg to ./data/00eaf2eced366517.jpg\n",
      "Downloading data/00efcda626c858c4.jpg to ./data/00efcda626c858c4.jpg\n",
      "Downloading data/00f4358b7bf03f04.jpg to ./data/00f4358b7bf03f04.jpg\n",
      "Downloading data/00f640154db6e39b.jpg to ./data/00f640154db6e39b.jpg\n",
      "Downloading data/00f7417f638ff1f5.jpg to ./data/00f7417f638ff1f5.jpg\n",
      "Downloading data/0104594a5c288645.jpg to ./data/0104594a5c288645.jpg\n",
      "Downloading data/010c9b83a304d624.jpg to ./data/010c9b83a304d624.jpg\n",
      "Downloading data/0120d7cdadafaf2c.jpg to ./data/0120d7cdadafaf2c.jpg\n",
      "Downloading data/012dad2f4a4b782e.jpg to ./data/012dad2f4a4b782e.jpg\n",
      "Downloading data/01333814888c9fcb.jpg to ./data/01333814888c9fcb.jpg\n",
      "Finished data ingestion.\n"
     ]
    }
   ],
   "source": [
    "ingest_data()"
   ]
  },
  {
   "cell_type": "markdown",
   "id": "adbf91b0-c331-4e6b-b0a6-25c31c919370",
   "metadata": {},
   "source": [
    "We'll then convert the raw images into structured data as in the previous notebooks."
   ]
  },
  {
   "cell_type": "code",
   "execution_count": 3,
   "id": "aadb625c-d35b-4554-bc32-bb3177ff5394",
   "metadata": {
    "collapsed": true,
    "jupyter": {
     "outputs_hidden": true
    },
    "tags": []
   },
   "outputs": [
    {
     "name": "stdout",
     "output_type": "stream",
     "text": [
      "Commencing data preprocessing.\n",
      "Scanning images folder ./data.\n",
      "Found image files: ['./data/0016a0f096337445.jpg', './data/001503233549730c.jpg', './data/00f7417f638ff1f5.jpg', './data/005ab6a6aec14a9c.jpg', './data/0030feaa83a02c0d.jpg', './data/0007efdd465a14b8.jpg', './data/000c4e51b1a9b8f7.jpg', './data/006be4a4e79e12d5.jpg', './data/00a7a03f0d75b433.jpg', './data/000228608388803f.jpg', './data/00112acaa533356c.jpg', './data/000998c7ed279358.jpg', './data/00948da90d0cb52d.jpg', './data/0007870724402b51.jpg', './data/00005bf623ff1ac2.jpg', './data/00dc4c2a55a0c32b.jpg', './data/000b0f235dcf2caa.jpg', './data/008125630eaf4f05.jpg', './data/001c40a6f5d88e48.jpg', './data/003d6b0960cb3e2b.jpg', './data/002bdd2550665a64.jpg', './data/0001c6bf48e16ab2.jpg', './data/004cb569de00934c.jpg', './data/00c5acc1534ca7a0.jpg', './data/002dd4662cbb4ba2.jpg', './data/0061abb86f6f9797.jpg', './data/004cda0e4eb7a750.jpg', './data/00bdfe164d09e786.jpg', './data/007a7cb668455fc3.jpg', './data/00eaf2eced366517.jpg', './data/008c28a0a97216c1.jpg', './data/0008bf2677041a02.jpg', './data/000d646bd488b38d.jpg', './data/005c731182304792.jpg', './data/00e5a35c3d7b50af.jpg', './data/000a8a98e1de3e25.jpg', './data/00041cc3701f7805.jpg', './data/009eaaa14af6f296.jpg', './data/009f745b52e89d5c.jpg', './data/00b8e1731d4fe022.jpg', './data/000f914230e22d71.jpg', './data/00d6aae9529521f2.jpg', './data/001df30e84a5a97f.jpg', './data/0001c8c65851276f.jpg', './data/00088e25af342aa4.jpg', './data/00222079c8a6280c.jpg', './data/0004394a0768c842.jpg', './data/000b393437134262.jpg', './data/0015ed9688bc1e8e.jpg', './data/000f269d7fece350.jpg', './data/0003bb040a62c86f.jpg', './data/006fcabebcf65380.jpg', './data/00036603fa39fa85.jpg', './data/0055a449c414ef9e.jpg', './data/007a3aae79a10a6c.jpg', './data/008a2dd76102b748.jpg', './data/010c9b83a304d624.jpg', './data/000692d348b0f181.jpg', './data/004cc310bb32da6a.jpg', './data/0000048549557964.jpg', './data/0003def0d18d8807.jpg', './data/00880ed05da05102.jpg', './data/0040970d5d6adc40.jpg', './data/0120d7cdadafaf2c.jpg', './data/001781cdcb61400b.jpg', './data/0009b74be294a699.jpg', './data/000c6c92c80213ff.jpg', './data/000096726fd6c6c8.jpg', './data/00058138dc1ecd17.jpg', './data/00071c51c8e92a68.jpg', './data/009b30b23a5befc3.jpg', './data/0040858c4d613704.jpg', './data/004afd0c3cb926ab.jpg', './data/00a11d5892e6ac29.jpg', './data/00049e69cdd23a3d.jpg', './data/0006c87d3735fcef.jpg', './data/00054dab88635bdb.jpg', './data/00068f1248eacccf.jpg', './data/00069668b6542934.jpg', './data/007ddcced8b5be79.jpg', './data/0002a5b67e5f0909.jpg', './data/003df657f0316e11.jpg', './data/001679a19bb6fd3f.jpg', './data/005ec5c4b32ca609.jpg', './data/00f640154db6e39b.jpg', './data/003d6a9ba866c4eb.jpg', './data/01333814888c9fcb.jpg', './data/00540dc66af81e94.jpg', './data/0104594a5c288645.jpg', './data/001a0e2feef561c7.jpg', './data/00d6e208e61b824c.jpg', './data/00869e738293d1df.jpg', './data/00efcda626c858c4.jpg', './data/000bd0b4fa27644c.jpg', './data/00010bf498b64bab.jpg', './data/0003b0bf24238450.jpg', './data/00060e9fc35e660c.jpg', './data/0004d295cfb46842.jpg', './data/00dd7bfce34210a0.jpg', './data/012dad2f4a4b782e.jpg', './data/00043e7c5c4c025a.jpg', './data/000c2995db80cbe4.jpg', './data/004853fe7579627e.jpg', './data/001609bdf7825870.jpg', './data/000d2e3d33b18463.jpg', './data/000883b46adeca7e.jpg', './data/00a601de77fe40ce.jpg', './data/0024fb82693bbbcc.jpg', './data/008cd942c971fe1a.jpg', './data/000f70501d048ef7.jpg', './data/0006176101d9d341.jpg', './data/0008fd2b17474497.jpg', './data/002150b620f2aa6d.jpg', './data/00494d0811b9e652.jpg', './data/00670d2aef4f1fcf.jpg', './data/000823c3bde83d9a.jpg', './data/0090c9b776a557fb.jpg', './data/006918103f17ca7f.jpg', './data/00c0ae5cf9a8fc5e.jpg', './data/0007bd7afaaf5415.jpg', './data/00f4358b7bf03f04.jpg', './data/0001c626b9afb50c.jpg', './data/000cfa102510c0f1.jpg', './data/001ec67e5cbcca49.jpg', './data/00aeae02541ecc2e.jpg', './data/0001124e2d5104e1.jpg', './data/00052b203c5dad30.jpg', './data/00e9982e9c9dde25.jpg', './data/0009c4ddcaab18d3.jpg', './data/002f2d008de2f535.jpg', './data/004720f5d7bd7edf.jpg', './data/007dd9372c1d4088.jpg', './data/0004d5a9dd44ab6a.jpg', './data/000823904818a6c4.jpg', './data/000bcee5bed5446b.jpg', './data/0020996570519366.jpg', './data/00050546c36b308c.jpg', './data/00e3d03cfff2b7a1.jpg', './data/0000575f5a03db70.jpg', './data/00082426f9139dd0.jpg', './data/000cafbcb070c466.jpg', './data/0071e67f53f3dc39.jpg', './data/00002f4ff380c64c.jpg', './data/000c38aad66307c5.jpg', './data/0099a5e2710c0e73.jpg', './data/007597893db3c411.jpg', './data/0057a54eb95ccae6.jpg'].\n",
      "Image names: ['0016a0f096337445', '001503233549730c', '00f7417f638ff1f5', '005ab6a6aec14a9c', '0030feaa83a02c0d', '0007efdd465a14b8', '000c4e51b1a9b8f7', '006be4a4e79e12d5', '00a7a03f0d75b433', '000228608388803f', '00112acaa533356c', '000998c7ed279358', '00948da90d0cb52d', '0007870724402b51', '00005bf623ff1ac2', '00dc4c2a55a0c32b', '000b0f235dcf2caa', '008125630eaf4f05', '001c40a6f5d88e48', '003d6b0960cb3e2b', '002bdd2550665a64', '0001c6bf48e16ab2', '004cb569de00934c', '00c5acc1534ca7a0', '002dd4662cbb4ba2', '0061abb86f6f9797', '004cda0e4eb7a750', '00bdfe164d09e786', '007a7cb668455fc3', '00eaf2eced366517', '008c28a0a97216c1', '0008bf2677041a02', '000d646bd488b38d', '005c731182304792', '00e5a35c3d7b50af', '000a8a98e1de3e25', '00041cc3701f7805', '009eaaa14af6f296', '009f745b52e89d5c', '00b8e1731d4fe022', '000f914230e22d71', '00d6aae9529521f2', '001df30e84a5a97f', '0001c8c65851276f', '00088e25af342aa4', '00222079c8a6280c', '0004394a0768c842', '000b393437134262', '0015ed9688bc1e8e', '000f269d7fece350', '0003bb040a62c86f', '006fcabebcf65380', '00036603fa39fa85', '0055a449c414ef9e', '007a3aae79a10a6c', '008a2dd76102b748', '010c9b83a304d624', '000692d348b0f181', '004cc310bb32da6a', '0000048549557964', '0003def0d18d8807', '00880ed05da05102', '0040970d5d6adc40', '0120d7cdadafaf2c', '001781cdcb61400b', '0009b74be294a699', '000c6c92c80213ff', '000096726fd6c6c8', '00058138dc1ecd17', '00071c51c8e92a68', '009b30b23a5befc3', '0040858c4d613704', '004afd0c3cb926ab', '00a11d5892e6ac29', '00049e69cdd23a3d', '0006c87d3735fcef', '00054dab88635bdb', '00068f1248eacccf', '00069668b6542934', '007ddcced8b5be79', '0002a5b67e5f0909', '003df657f0316e11', '001679a19bb6fd3f', '005ec5c4b32ca609', '00f640154db6e39b', '003d6a9ba866c4eb', '01333814888c9fcb', '00540dc66af81e94', '0104594a5c288645', '001a0e2feef561c7', '00d6e208e61b824c', '00869e738293d1df', '00efcda626c858c4', '000bd0b4fa27644c', '00010bf498b64bab', '0003b0bf24238450', '00060e9fc35e660c', '0004d295cfb46842', '00dd7bfce34210a0', '012dad2f4a4b782e', '00043e7c5c4c025a', '000c2995db80cbe4', '004853fe7579627e', '001609bdf7825870', '000d2e3d33b18463', '000883b46adeca7e', '00a601de77fe40ce', '0024fb82693bbbcc', '008cd942c971fe1a', '000f70501d048ef7', '0006176101d9d341', '0008fd2b17474497', '002150b620f2aa6d', '00494d0811b9e652', '00670d2aef4f1fcf', '000823c3bde83d9a', '0090c9b776a557fb', '006918103f17ca7f', '00c0ae5cf9a8fc5e', '0007bd7afaaf5415', '00f4358b7bf03f04', '0001c626b9afb50c', '000cfa102510c0f1', '001ec67e5cbcca49', '00aeae02541ecc2e', '0001124e2d5104e1', '00052b203c5dad30', '00e9982e9c9dde25', '0009c4ddcaab18d3', '002f2d008de2f535', '004720f5d7bd7edf', '007dd9372c1d4088', '0004d5a9dd44ab6a', '000823904818a6c4', '000bcee5bed5446b', '0020996570519366', '00050546c36b308c', '00e3d03cfff2b7a1', '0000575f5a03db70', '00082426f9139dd0', '000cafbcb070c466', '0071e67f53f3dc39', '00002f4ff380c64c', '000c38aad66307c5', '0099a5e2710c0e73', '007597893db3c411', '0057a54eb95ccae6'].\n",
      "Data preprocessing done.\n"
     ]
    }
   ],
   "source": [
    "preprocess_image_folder()"
   ]
  },
  {
   "cell_type": "markdown",
   "id": "21388a94-5b17-489a-b172-8585a03e4165",
   "metadata": {},
   "source": [
    "We'll now download the object detection model from the remote S3 bucket into the local folder. You'll find it in the object browser as `model.onnx`."
   ]
  },
  {
   "cell_type": "code",
   "execution_count": 4,
   "id": "65068f51-5a86-4ea9-b4ac-0189ad145543",
   "metadata": {},
   "outputs": [
    {
     "name": "stdout",
     "output_type": "stream",
     "text": [
      "Commencing model loading.\n",
      "Downloading model from bucket object-detection from S3 storage at http://minio-service:9000\n",
      "Finished model loading.\n"
     ]
    }
   ],
   "source": [
    "load_model()"
   ]
  },
  {
   "cell_type": "markdown",
   "id": "0cea7f55-3b52-4fc2-9df3-908ccd7f658d",
   "metadata": {},
   "source": [
    "Let's now run the model through the pre-processed images. We'll collect the prediction results and stored them locally in the `./data/results.csv` file.\n",
    "\n",
    "If using your own custom model, add the `class_labels` argument to the function call, e.g. `predict(class_labels=['Laptop', 'Computer keyboard', 'Table'])`."
   ]
  },
  {
   "cell_type": "code",
   "execution_count": 5,
   "id": "3e9c73d8-f441-4a9f-95f2-6eae63514e90",
   "metadata": {},
   "outputs": [
    {
     "name": "stdout",
     "output_type": "stream",
     "text": [
      "Commencing offline scoring.\n",
      "Class labels are: ['person',\n",
      " 'bicycle',\n",
      " 'car',\n",
      " 'motorbike',\n",
      " 'aeroplane',\n",
      " 'bus',\n",
      " 'train',\n",
      " 'truck',\n",
      " 'boat',\n",
      " 'traffic light',\n",
      " 'fire hydrant',\n",
      " 'stop sign',\n",
      " 'parking meter',\n",
      " 'bench',\n",
      " 'bird',\n",
      " 'cat',\n",
      " 'dog',\n",
      " 'horse',\n",
      " 'sheep',\n",
      " 'cow',\n",
      " 'elephant',\n",
      " 'bear',\n",
      " 'zebra',\n",
      " 'giraffe',\n",
      " 'backpack',\n",
      " 'umbrella',\n",
      " 'handbag',\n",
      " 'tie',\n",
      " 'suitcase',\n",
      " 'frisbee',\n",
      " 'skis',\n",
      " 'snowboard',\n",
      " 'sports ball',\n",
      " 'kite',\n",
      " 'baseball bat',\n",
      " 'baseball glove',\n",
      " 'skateboard',\n",
      " 'surfboard',\n",
      " 'tennis racket',\n",
      " 'bottle',\n",
      " 'wine glass',\n",
      " 'cup',\n",
      " 'fork',\n",
      " 'knife',\n",
      " 'spoon',\n",
      " 'bowl',\n",
      " 'banana',\n",
      " 'apple',\n",
      " 'sandwich',\n",
      " 'orange',\n",
      " 'broccoli',\n",
      " 'carrot',\n",
      " 'hot dog',\n",
      " 'pizza',\n",
      " 'donut',\n",
      " 'cake',\n",
      " 'chair',\n",
      " 'sofa',\n",
      " 'pottedplant',\n",
      " 'bed',\n",
      " 'diningtable',\n",
      " 'toilet',\n",
      " 'tvmonitor',\n",
      " 'laptop',\n",
      " 'mouse',\n",
      " 'remote',\n",
      " 'keyboard',\n",
      " 'cell phone',\n",
      " 'microwave',\n",
      " 'oven',\n",
      " 'toaster',\n",
      " 'sink',\n",
      " 'refrigerator',\n",
      " 'book',\n",
      " 'clock',\n",
      " 'vase',\n",
      " 'scissors',\n",
      " 'teddy bear',\n",
      " 'hair drier',\n",
      " 'toothbrush']\n",
      "Offline scoring complete.\n"
     ]
    }
   ],
   "source": [
    "predict()"
   ]
  },
  {
   "cell_type": "markdown",
   "id": "e92ebd3e-dd13-4fc0-9504-2ae28764ced1",
   "metadata": {},
   "source": [
    "Finally, we'll upload the results file into our S3 bucket, so the results become available for further analytics and processing."
   ]
  },
  {
   "cell_type": "code",
   "execution_count": 6,
   "id": "05b7291b-0f58-4def-9f69-2f524ffd62ec",
   "metadata": {},
   "outputs": [
    {
     "name": "stdout",
     "output_type": "stream",
     "text": [
      "Commencing results upload.\n",
      "Uploading predictions to bucket object-detection to S3 storage at http://minio-service:9000\n",
      "Finished uploading results.\n"
     ]
    }
   ],
   "source": [
    "upload_results()"
   ]
  },
  {
   "cell_type": "markdown",
   "id": "14a23797-99db-44f4-b2d3-1fb83788ee80",
   "metadata": {},
   "source": [
    "You can now inspect the results in the object detection S3 bucket within your object storage browser. Within the `data` folder, find and download the `predictions-[timestamp].csv` object to view the list of all detected objects in the respective images.\n",
    "\n",
    "Let's now head over to the workshop for the next section, which is running offline scoring through Data Science Pipelines."
   ]
  },
  {
   "cell_type": "code",
   "execution_count": null,
   "id": "11ae040a-b426-4cc7-8bfc-c4b372e65179",
   "metadata": {},
   "outputs": [],
   "source": []
  }
 ],
 "metadata": {
  "kernelspec": {
   "display_name": "Python 3.9.16",
   "language": "python",
   "name": "python3"
  },
  "language_info": {
   "codemirror_mode": {
    "name": "ipython",
    "version": 3
   },
   "file_extension": ".py",
   "mimetype": "text/x-python",
   "name": "python",
   "nbconvert_exporter": "python",
   "pygments_lexer": "ipython3",
   "version": "3.9.16"
  },
  "vscode": {
   "interpreter": {
    "hash": "e7370f93d1d0cde622a1f8e1c04877d8463912d04d973331ad4851f04de6915a"
   }
  }
 },
 "nbformat": 4,
 "nbformat_minor": 5
}
